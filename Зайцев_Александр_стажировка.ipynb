{
 "cells": [
  {
   "cell_type": "markdown",
   "metadata": {},
   "source": [
    "## Задача. Построить модель прогнозирования факта сдачи теста"
   ]
  },
  {
   "cell_type": "markdown",
   "metadata": {},
   "source": [
    "<img src=\"image/images2.png\" alt=\"Drawing\" style=\"width: 380px;\" align=\"left\"/> <br />"
   ]
  },
  {
   "cell_type": "markdown",
   "metadata": {},
   "source": [
    "### Загружаем библиотеки"
   ]
  },
  {
   "cell_type": "code",
   "execution_count": 1,
   "metadata": {},
   "outputs": [],
   "source": [
    "import itertools\n",
    "import numpy as np\n",
    "import pandas as pd\n",
    "import scipy\n",
    "\n",
    "from sklearn.preprocessing import StandardScaler\n",
    "from sklearn.compose import ColumnTransformer\n",
    "from sklearn.base import BaseEstimator\n",
    "from sklearn.preprocessing import LabelEncoder\n",
    "from sklearn.metrics import mean_absolute_error\n",
    "from sklearn.linear_model import LinearRegression\n",
    "from sklearn.model_selection import train_test_split\n",
    "from sklearn.preprocessing import OneHotEncoder\n",
    "from sklearn.linear_model import Ridge\n",
    "\n",
    "import matplotlib.pyplot as plt\n",
    "%matplotlib inline "
   ]
  },
  {
   "cell_type": "markdown",
   "metadata": {},
   "source": [
    "### Загружаем данные"
   ]
  },
  {
   "cell_type": "code",
   "execution_count": 2,
   "metadata": {},
   "outputs": [
    {
     "name": "stdout",
     "output_type": "stream",
     "text": [
      "(2133, 12)\n"
     ]
    },
    {
     "data": {
      "text/html": [
       "<div>\n",
       "<style scoped>\n",
       "    .dataframe tbody tr th:only-of-type {\n",
       "        vertical-align: middle;\n",
       "    }\n",
       "\n",
       "    .dataframe tbody tr th {\n",
       "        vertical-align: top;\n",
       "    }\n",
       "\n",
       "    .dataframe thead th {\n",
       "        text-align: right;\n",
       "    }\n",
       "</style>\n",
       "<table border=\"1\" class=\"dataframe\">\n",
       "  <thead>\n",
       "    <tr style=\"text-align: right;\">\n",
       "      <th></th>\n",
       "      <th>Unnamed: 0</th>\n",
       "      <th>Unnamed: 0.1</th>\n",
       "      <th>school</th>\n",
       "      <th>school_setting</th>\n",
       "      <th>school_type</th>\n",
       "      <th>classroom</th>\n",
       "      <th>teaching_method</th>\n",
       "      <th>n_student</th>\n",
       "      <th>gender</th>\n",
       "      <th>lunch</th>\n",
       "      <th>posttest</th>\n",
       "      <th>target</th>\n",
       "    </tr>\n",
       "  </thead>\n",
       "  <tbody>\n",
       "    <tr>\n",
       "      <th>0</th>\n",
       "      <td>0</td>\n",
       "      <td>0</td>\n",
       "      <td>ANKYI</td>\n",
       "      <td>Urban</td>\n",
       "      <td>Non-public</td>\n",
       "      <td>6OL</td>\n",
       "      <td>Standard</td>\n",
       "      <td>20.0</td>\n",
       "      <td>Male</td>\n",
       "      <td>Does not qualify</td>\n",
       "      <td>72.0</td>\n",
       "      <td>1.0</td>\n",
       "    </tr>\n",
       "    <tr>\n",
       "      <th>1</th>\n",
       "      <td>1</td>\n",
       "      <td>1</td>\n",
       "      <td>ANKYI</td>\n",
       "      <td>Urban</td>\n",
       "      <td>Non-public</td>\n",
       "      <td>6OL</td>\n",
       "      <td>Standard</td>\n",
       "      <td>20.0</td>\n",
       "      <td>Male</td>\n",
       "      <td>Does not qualify</td>\n",
       "      <td>79.0</td>\n",
       "      <td>0.0</td>\n",
       "    </tr>\n",
       "    <tr>\n",
       "      <th>2</th>\n",
       "      <td>2</td>\n",
       "      <td>2</td>\n",
       "      <td>ANKYI</td>\n",
       "      <td>Urban</td>\n",
       "      <td>Non-public</td>\n",
       "      <td>6OL</td>\n",
       "      <td>Standard</td>\n",
       "      <td>NaN</td>\n",
       "      <td>Male</td>\n",
       "      <td>Does not qualify</td>\n",
       "      <td>76.0</td>\n",
       "      <td>1.0</td>\n",
       "    </tr>\n",
       "    <tr>\n",
       "      <th>3</th>\n",
       "      <td>3</td>\n",
       "      <td>3</td>\n",
       "      <td>ANKYI</td>\n",
       "      <td>Urban</td>\n",
       "      <td>Non-public</td>\n",
       "      <td>6OL</td>\n",
       "      <td>Standard</td>\n",
       "      <td>20.0</td>\n",
       "      <td>Male</td>\n",
       "      <td>Does not qualify</td>\n",
       "      <td>77.0</td>\n",
       "      <td>1.0</td>\n",
       "    </tr>\n",
       "    <tr>\n",
       "      <th>4</th>\n",
       "      <td>4</td>\n",
       "      <td>4</td>\n",
       "      <td>ANKYI</td>\n",
       "      <td>Urban</td>\n",
       "      <td>Non-public</td>\n",
       "      <td>6OL</td>\n",
       "      <td>Standard</td>\n",
       "      <td>20.0</td>\n",
       "      <td>Male</td>\n",
       "      <td>Does not qualify</td>\n",
       "      <td>76.0</td>\n",
       "      <td>0.0</td>\n",
       "    </tr>\n",
       "  </tbody>\n",
       "</table>\n",
       "</div>"
      ],
      "text/plain": [
       "   Unnamed: 0  Unnamed: 0.1 school school_setting school_type classroom  \\\n",
       "0           0             0  ANKYI          Urban  Non-public       6OL   \n",
       "1           1             1  ANKYI          Urban  Non-public       6OL   \n",
       "2           2             2  ANKYI          Urban  Non-public       6OL   \n",
       "3           3             3  ANKYI          Urban  Non-public       6OL   \n",
       "4           4             4  ANKYI          Urban  Non-public       6OL   \n",
       "\n",
       "  teaching_method  n_student gender             lunch  posttest  target  \n",
       "0        Standard       20.0   Male  Does not qualify      72.0     1.0  \n",
       "1        Standard       20.0   Male  Does not qualify      79.0     0.0  \n",
       "2        Standard        NaN   Male  Does not qualify      76.0     1.0  \n",
       "3        Standard       20.0   Male  Does not qualify      77.0     1.0  \n",
       "4        Standard       20.0   Male  Does not qualify      76.0     0.0  "
      ]
     },
     "execution_count": 2,
     "metadata": {},
     "output_type": "execute_result"
    }
   ],
   "source": [
    "df = pd.read_csv('dataset.csv', sep=';')\n",
    "print(df.shape)\n",
    "df.head()"
   ]
  },
  {
   "cell_type": "markdown",
   "metadata": {},
   "source": [
    "### Описание полей\n",
    "* **school** - Код школы, в которой учится ученик  \n",
    "* **school_setting** - Тип района в котором находится школа  \n",
    "* **school_type** - Частная или нет школа  \n",
    "* **classroom** - внутренний код класса, в котором проиходят занятия  \n",
    "* **teaching_method** - является ли обучение экспериментальным  \n",
    "* **n_student** - возраст ученика  \n",
    "* **gender** - пол ученика  \n",
    "* **lunch** - Является ли ученик слабозащищенной категорией населения  \n",
    "* **posttest** - балл по тесту\n",
    "* **target** - сдал или нет. 1- сдал."
   ]
  },
  {
   "cell_type": "markdown",
   "metadata": {},
   "source": [
    "### Разобьем выборку на train / valid / test"
   ]
  },
  {
   "cell_type": "code",
   "execution_count": 3,
   "metadata": {},
   "outputs": [
    {
     "data": {
      "text/plain": [
       "((799, 8), (800, 8), (534, 8))"
      ]
     },
     "execution_count": 3,
     "metadata": {},
     "output_type": "execute_result"
    }
   ],
   "source": [
    "X = df.drop(['posttest','Unnamed: 0','Unnamed: 0.1'], axis=1)\n",
    "X = X.drop(['target'], axis=1)\n",
    "y = df['posttest']\n",
    "\n",
    "X_tv, X_test, y_tv, y_test = train_test_split(X, y, random_state=1234)\n",
    "X_train, X_valid, y_train, y_valid = train_test_split(X_tv, y_tv, test_size=0.5,random_state=1234)\n",
    "\n",
    "X_train.shape, X_valid.shape, X_test.shape"
   ]
  },
  {
   "cell_type": "markdown",
   "metadata": {},
   "source": [
    "У меня нет больше информации кроме как, что target это «сдал или нет», а posttest это баллы по тесту. То есть я могу дать предположение относительно данных, что target это сдача предмета, а posttest это сдача определенного теста (накопительной части для сдачи предмета). В связи с тем, что у отмеченных этих двух признаков нет корреляции (околонулевая), я могу поступить относительно модели двумя способами. Первый – это убрать признак target. Либо оставить данный признак в связи с тем, что он может послужить хорошим признаком. Руководствуясь логикой, что это некое заглядывание в будущее, в рамках обобщения модели, правильнее будет убрать данный признак."
   ]
  },
  {
   "cell_type": "markdown",
   "metadata": {},
   "source": [
    "### Заполнение пропусков"
   ]
  },
  {
   "cell_type": "code",
   "execution_count": 4,
   "metadata": {},
   "outputs": [],
   "source": [
    "\n",
    "X_train = X_train.fillna(X_train.mean())\n",
    "X_valid = X_valid.fillna(X_valid.mean())\n",
    "X_test = X_test.fillna(X_train.mean())\n"
   ]
  },
  {
   "cell_type": "markdown",
   "metadata": {},
   "source": [
    "Тестовая выборка должна быть заполнена по трейну. В валидационной выборке я решил заполнить пропуски по ней же в рамках избежания переобучения на трейне при нахождении woe."
   ]
  },
  {
   "cell_type": "markdown",
   "metadata": {},
   "source": [
    "-----------"
   ]
  },
  {
   "cell_type": "markdown",
   "metadata": {},
   "source": [
    "В качестве целевой переменной  будем рассматривать балл по тесту.  <br />\n",
    "Построим линейную регрессию."
   ]
  },
  {
   "cell_type": "markdown",
   "metadata": {},
   "source": [
    "### Заинжинирим новую переменную\n",
    "пол*возраст\n",
    "для каждой комбинации посчитаем weight of evidence и будем его использовать в модели"
   ]
  },
  {
   "cell_type": "code",
   "execution_count": 5,
   "metadata": {},
   "outputs": [],
   "source": [
    "X_valid=X_valid.reset_index()\n",
    "\n",
    "X_train['woe_agegender']=np.mean(y_valid)\n",
    "X_test['woe_agegender']=np.mean(y_valid)\n",
    "\n",
    "for i in X_valid.gender.unique():\n",
    "    for j in X_valid.n_student.unique():\n",
    "        \n",
    "        l=X_valid.loc[(X_valid.gender==i) & (X_valid.n_student>=j)]\n",
    "        woe=y_valid.loc[l['index'].tolist()].mean()\n",
    "        X_train.loc[(X_train.gender==i) & (X_train.n_student>=j), 'woe_agegender'] = woe\n",
    "        \n",
    "        \n",
    "        X_test.loc[(X_test.gender==i) & (X_test.n_student>=j), 'woe_agegender'] = woe"
   ]
  },
  {
   "cell_type": "code",
   "execution_count": 6,
   "metadata": {},
   "outputs": [
    {
     "data": {
      "text/plain": [
       "array([67.36349454, 55.45454545, 64.69736842, 67.41705426, 64.96774194])"
      ]
     },
     "execution_count": 6,
     "metadata": {},
     "output_type": "execute_result"
    }
   ],
   "source": [
    "X_train['woe_agegender'].unique()"
   ]
  },
  {
   "cell_type": "markdown",
   "metadata": {},
   "source": [
    "Нахожу значения woe относительно пола и количества студентов на основе валидационной выборки и эти значения при тех же значениях пола и колчичества студентов добавляю в трейин и тест. (В случае если нет совпадения, я решил заполнить средним значением)"
   ]
  },
  {
   "cell_type": "markdown",
   "metadata": {},
   "source": [
    "### Дальше накинем one-hot encoding и маштабирование"
   ]
  },
  {
   "cell_type": "markdown",
   "metadata": {},
   "source": [
    "Помимо этого добавил регулизацию из-за потенциально большого появления новых признаков и решения проблемы мультиколиниарности из-за отсутсвия выкинутых первых столбцов после One-hot encoding"
   ]
  },
  {
   "cell_type": "markdown",
   "metadata": {},
   "source": [
    "Помимо этого на будущее добавил возможность выкинуть не нужные столбцы для улучшения модели"
   ]
  },
  {
   "cell_type": "code",
   "execution_count": 25,
   "metadata": {},
   "outputs": [],
   "source": [
    "class LinearRegressionEncoder(BaseEstimator):\n",
    "    def __init__(self, list_drop=None):\n",
    "        self.linreg = Ridge(0.1)\n",
    "        self.encoders = {}\n",
    "        self.list_drop=list_drop\n",
    "    \n",
    "    \n",
    "    def fit(self, X, y):\n",
    "        X_enc = X.copy()\n",
    "        \n",
    "        categorical_features = X.columns[X.dtypes == 'object']\n",
    "        numerical_features=X._get_numeric_data().columns\n",
    "        \n",
    "        \n",
    "        le = ColumnTransformer( [(\"scaler\", StandardScaler(),numerical_features),\n",
    "                         ('encoder',OneHotEncoder(handle_unknown='ignore'),categorical_features )], remainder = 'passthrough')\n",
    "       \n",
    "        X_enc = pd.DataFrame(le.fit_transform(X).toarray())\n",
    "        self.encoders = le\n",
    " \n",
    "        \n",
    "        if self.list_drop != None:\n",
    "            X_enc=X_enc.drop(self.list_drop, axis=1)\n",
    "        \n",
    "        self.col=X_enc.columns\n",
    "        self.linreg.fit(X_enc, y)\n",
    "        \n",
    "        # считаем значимость\n",
    "        y_pred = self.linreg.predict(X_enc)\n",
    "        sse = np.sum((y_pred - y) ** 2, axis=0) / float(X_enc.shape[0] - X_enc.shape[1])\n",
    "        \n",
    "        se = np.array([np.sqrt(np.diag(sse * np.linalg.pinv(np.dot(X_enc.T, X_enc))))])\n",
    "        print(np.shape(se))\n",
    "        self.t = self.linreg.coef_ / se\n",
    "        \n",
    "        self.p = 2 * (1 - scipy.stats.t.cdf(np.abs(self.t), y.shape[0] - X_enc.shape[1]))\n",
    "        \n",
    "        return self\n",
    "    \n",
    "    def predict(self, X):\n",
    "        X_enc = X.copy()\n",
    "\n",
    "        X_enc = pd.DataFrame(self.encoders.transform(X).toarray())\n",
    "        \n",
    "        if self.list_drop != None:\n",
    "            X_enc=X_enc.drop(self.list_drop, axis=1)\n",
    "            \n",
    "        y_pred = self.linreg.predict(X_enc)\n",
    "        \n",
    "        return y_pred\n",
    "    \n",
    "    def score(self, X, y):        \n",
    "        \n",
    "        y_pred = self.predict(X)\n",
    "        return mean_absolute_error(y, y_pred)"
   ]
  },
  {
   "cell_type": "code",
   "execution_count": 26,
   "metadata": {},
   "outputs": [
    {
     "name": "stdout",
     "output_type": "stream",
     "text": [
      "(1, 133)\n",
      "Wall time: 42.1 ms\n"
     ]
    },
    {
     "data": {
      "text/plain": [
       "LinearRegressionEncoder()"
      ]
     },
     "execution_count": 26,
     "metadata": {},
     "output_type": "execute_result"
    }
   ],
   "source": [
    "%%time\n",
    "linreg = LinearRegressionEncoder()\n",
    "linreg.fit(X_train, y_train)"
   ]
  },
  {
   "cell_type": "code",
   "execution_count": 27,
   "metadata": {},
   "outputs": [
    {
     "name": "stdout",
     "output_type": "stream",
     "text": [
      "TRAIN MSE: 2.344137915535318\n",
      "TEST MSE: 2.4837855206964172\n"
     ]
    }
   ],
   "source": [
    "print('TRAIN MSE:', linreg.score(X_train, y_train))\n",
    "print('TEST MSE:', linreg.score(X_test, y_test))"
   ]
  },
  {
   "cell_type": "markdown",
   "metadata": {},
   "source": [
    "### Ошибка на тесте не сильно больше чем на трейне. Значит модель отличная"
   ]
  },
  {
   "cell_type": "markdown",
   "metadata": {},
   "source": [
    "Улучшим модель, исключив из данных незначимые факторы"
   ]
  },
  {
   "cell_type": "code",
   "execution_count": 28,
   "metadata": {},
   "outputs": [
    {
     "name": "stdout",
     "output_type": "stream",
     "text": [
      "0  -  0.505874\n",
      "1  -  0.968184\n",
      "2  -  0.173256\n",
      "3  -  0.074622\n",
      "4  -  8.9e-05\n",
      "5  -  0.305676\n",
      "6  -  0.0\n",
      "7  -  0.336509\n",
      "8  -  6e-06\n",
      "9  -  0.905707\n",
      "10  -  0.696825\n",
      "11  -  0.0\n",
      "12  -  0.0\n",
      "13  -  0.0\n",
      "14  -  0.0\n",
      "15  -  0.0\n",
      "16  -  0.467986\n",
      "17  -  0.560886\n",
      "18  -  0.0\n",
      "19  -  0.305137\n",
      "20  -  0.017251\n",
      "21  -  0.63097\n",
      "22  -  0.004494\n",
      "23  -  0.0\n",
      "24  -  0.150208\n",
      "25  -  0.00142\n",
      "26  -  0.0\n",
      "27  -  0.206562\n",
      "28  -  0.000257\n",
      "29  -  0.203221\n",
      "30  -  0.720272\n",
      "31  -  0.0\n",
      "32  -  0.0\n",
      "33  -  0.998736\n",
      "34  -  0.625553\n",
      "35  -  0.115634\n",
      "36  -  1.3e-05\n",
      "37  -  0.885414\n",
      "38  -  1e-06\n",
      "39  -  0.000637\n",
      "40  -  0.002322\n",
      "41  -  0.080054\n",
      "42  -  0.0\n",
      "43  -  4e-06\n",
      "44  -  0.0\n",
      "45  -  0.209981\n",
      "46  -  0.106492\n",
      "47  -  0.0\n",
      "48  -  0.00052\n",
      "49  -  0.00011\n",
      "50  -  0.029741\n",
      "51  -  0.000828\n",
      "52  -  0.04539\n",
      "53  -  0.0\n",
      "54  -  0.146075\n",
      "55  -  0.001511\n",
      "56  -  1e-05\n",
      "57  -  0.028396\n",
      "58  -  0.0\n",
      "59  -  0.727205\n",
      "60  -  0.24887\n",
      "61  -  0.643046\n",
      "62  -  0.674529\n",
      "63  -  9.3e-05\n",
      "64  -  0.884901\n",
      "65  -  0.0\n",
      "66  -  0.0\n",
      "67  -  0.021957\n",
      "68  -  0.000208\n",
      "69  -  0.065542\n",
      "70  -  0.000178\n",
      "71  -  0.091612\n",
      "72  -  0.004177\n",
      "73  -  0.226275\n",
      "74  -  1e-06\n",
      "75  -  0.754069\n",
      "76  -  0.193727\n",
      "77  -  0.0\n",
      "78  -  0.721323\n",
      "79  -  0.042594\n",
      "80  -  0.01226\n",
      "81  -  0.638984\n",
      "82  -  0.004843\n",
      "83  -  0.535546\n",
      "84  -  0.334444\n",
      "85  -  1e-06\n",
      "86  -  0.004409\n",
      "87  -  1e-06\n",
      "88  -  0.530515\n",
      "89  -  0.0\n",
      "90  -  0.535771\n",
      "91  -  0.941345\n",
      "92  -  0.000591\n",
      "93  -  0.065458\n",
      "94  -  0.0\n",
      "95  -  0.0\n",
      "96  -  0.0\n",
      "97  -  0.331124\n",
      "98  -  0.0\n",
      "99  -  0.000358\n",
      "100  -  0.184919\n",
      "101  -  0.027627\n",
      "102  -  0.0\n",
      "103  -  0.843308\n",
      "104  -  0.001255\n",
      "105  -  0.730809\n",
      "106  -  0.164297\n",
      "107  -  0.072162\n",
      "108  -  0.997152\n",
      "109  -  0.0\n",
      "110  -  0.551205\n",
      "111  -  0.0\n",
      "112  -  3.5e-05\n",
      "113  -  0.941972\n",
      "114  -  0.0\n",
      "115  -  0.544555\n",
      "116  -  0.342587\n",
      "117  -  0.261417\n",
      "118  -  0.016792\n",
      "119  -  0.00043\n",
      "120  -  4e-06\n",
      "121  -  0.009722\n",
      "122  -  0.0\n",
      "123  -  0.0\n",
      "124  -  0.012784\n",
      "125  -  0.461223\n",
      "126  -  0.793207\n",
      "127  -  0.022371\n",
      "128  -  0.307555\n",
      "129  -  0.985487\n",
      "130  -  0.981907\n",
      "131  -  0.469128\n",
      "132  -  0.472301\n"
     ]
    }
   ],
   "source": [
    "## здесь дописать\n",
    "for p_val, factor in itertools.zip_longest(np.array(linreg.p[0]), np.array(linreg.col)):\n",
    "    print(factor, ' - ', round(p_val, 6))"
   ]
  },
  {
   "cell_type": "markdown",
   "metadata": {},
   "source": [
    "удалим факторы у которых pvalue = 0 после округление до 10 знака и перевзвесим коэффициенты"
   ]
  },
  {
   "cell_type": "code",
   "execution_count": 29,
   "metadata": {},
   "outputs": [
    {
     "data": {
      "text/plain": [
       "[11, 12, 13, 14, 18, 23, 26, 32, 44, 58, 65, 77, 89, 95, 114]"
      ]
     },
     "execution_count": 29,
     "metadata": {},
     "output_type": "execute_result"
    }
   ],
   "source": [
    "sign = [f for p, f in itertools.zip_longest(np.array(linreg.p[0]), np.array(linreg.col)) if np.round(p,10) == 0]\n",
    "sign"
   ]
  },
  {
   "cell_type": "code",
   "execution_count": 30,
   "metadata": {},
   "outputs": [
    {
     "name": "stdout",
     "output_type": "stream",
     "text": [
      "(1, 118)\n",
      "Wall time: 44.4 ms\n"
     ]
    },
    {
     "data": {
      "text/plain": [
       "LinearRegressionEncoder(list_drop=[11, 12, 13, 14, 18, 23, 26, 32, 44, 58, 65,\n",
       "                                   77, 89, 95, 114])"
      ]
     },
     "execution_count": 30,
     "metadata": {},
     "output_type": "execute_result"
    }
   ],
   "source": [
    "%%time\n",
    "linreg2 = LinearRegressionEncoder(list_drop=sign)\n",
    "linreg2.fit(X_train, y_train)"
   ]
  },
  {
   "cell_type": "code",
   "execution_count": 31,
   "metadata": {},
   "outputs": [
    {
     "name": "stdout",
     "output_type": "stream",
     "text": [
      "TRAIN MSE after drop insignificant: 2.6217485246126833\n",
      "TEST MSE after drop insignificant 2.695492480394026\n"
     ]
    }
   ],
   "source": [
    "print('TRAIN MSE after drop insignificant:', \n",
    "      linreg2.score(X_train, y_train))\n",
    "print('TEST MSE after drop insignificant', \n",
    "      linreg2.score(X_test, y_test))"
   ]
  },
  {
   "cell_type": "markdown",
   "metadata": {},
   "source": [
    "### После удаления получили модель чуть похуже, но в ней оценки коэффициентов несмещены и переобучение стало немного меньше (разница между тестом и трейном меньше), а значит модель получилась более обобщенная"
   ]
  },
  {
   "cell_type": "code",
   "execution_count": null,
   "metadata": {},
   "outputs": [],
   "source": []
  }
 ],
 "metadata": {
  "kernelspec": {
   "display_name": "Python 3",
   "language": "python",
   "name": "python3"
  },
  "language_info": {
   "codemirror_mode": {
    "name": "ipython",
    "version": 3
   },
   "file_extension": ".py",
   "mimetype": "text/x-python",
   "name": "python",
   "nbconvert_exporter": "python",
   "pygments_lexer": "ipython3",
   "version": "3.8.8"
  }
 },
 "nbformat": 4,
 "nbformat_minor": 5
}
